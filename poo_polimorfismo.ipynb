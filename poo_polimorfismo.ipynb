{
 "cells": [
  {
   "cell_type": "code",
   "execution_count": 23,
   "id": "c876ca52",
   "metadata": {},
   "outputs": [
    {
     "name": "stdout",
     "output_type": "stream",
     "text": [
      "Tipo: Tunado\n",
      "Modelo: Lancer\n",
      "Descrição: 🔥 🔥 🔥 \"Será que corre mesmo???\" 🔥 🔥 🔥\n",
      "       Este carro é tipo Need For Speed...🔥 \n",
      "\n",
      "Tipo: Robozão\n",
      "Modelo: Tiger 1100\n",
      "Descrição: 🔥 🔥 🔥 \"Será que corre mesmo???\" 🔥 🔥 🔥\n",
      "       Já esta motoka anda demais...🔥 \n",
      "\n"
     ]
    }
   ],
   "source": [
    "# 🔥 Exercício 1: Veículo e subclasses (Carro, Moto)\n",
    "# 🎯 Crie uma classe `Veiculo` com um método `descricao()`.\n",
    "# 🎯 As subclasses `Carro` e `Moto` devem sobrescrever `descricao()` de forma personalizada.\n",
    "\n",
    "class Veiculo:\n",
    "    def __init__(self, tipo):\n",
    "        self.tipo = tipo.title()\n",
    "    def descricao(self):\n",
    "            return \"\\U0001f525 \\U0001f525 \\U0001f525 \\\"Será que corre mesmo???\\\" \\U0001f525 \\U0001f525 \\U0001f525\"\n",
    "\n",
    "class Carro(Veiculo):\n",
    "    def __init__(self, tipo, modelo):\n",
    "        \n",
    "        super().__init__(tipo)\n",
    "        self.modelo = modelo.title()\n",
    "        \n",
    "\n",
    "    def descricao(self):\n",
    "        return super().descricao() + f\"\\n       Este carro é tipo Need For Speed...\\U0001f525\"\n",
    "    \n",
    "class Moto(Veiculo):\n",
    "    def __init__(self, tipo, modelo):\n",
    "        super().__init__(tipo)\n",
    "        self.modelo = modelo.title()\n",
    "       \n",
    "\n",
    "    def descricao(self):\n",
    "        return super().descricao() + f\"\\n       Já esta motoka anda demais...\\U0001f525\"\n",
    "\n",
    "automoveis = [Carro(\"Tunado\", \"Lancer\"), Moto(\"Robozão\", \"Tiger 1100\")]\n",
    "\n",
    "\n",
    "for automovel in automoveis:\n",
    "    print(f\"Tipo: {automovel.tipo}\\nModelo: {automovel.modelo}\\nDescrição: {automovel.descricao()} \\n\")"
   ]
  },
  {
   "cell_type": "code",
   "execution_count": null,
   "id": "e53217f7",
   "metadata": {},
   "outputs": [],
   "source": [
    "# 🔥 Exercício 2: Animais emitindo sons diferentes\n",
    "# 🎯 Crie uma classe `Animal` com um método `emitir_som()`.\n",
    "# 🎯 As subclasses `Cachorro` e `Gato` devem sobrescrever o método para emitir sons distintos.\n",
    "\n",
    "class Animais:\n",
    "    def emitir_som(self):\n",
    "        raise NotImplementedError(\"Você deve sobrescrever este método...se não vou continuar te mostrando que vc precisa sobrescrever este método!!!\")\n",
    "class Dog(Animais):\n",
    "    def __init__(self, nome, mania):\n",
    "       self.nome = nome\n",
    "       self.mania = mania\n",
    "\n",
    "    def emitir_som(self):\n",
    "        return \"Auuuuuuuu...\"\n",
    "\n",
    "class Cat(Animais):\n",
    "    pass\n",
    "    \n",
    "\n"
   ]
  },
  {
   "cell_type": "code",
   "execution_count": null,
   "id": "05b3ddcd",
   "metadata": {},
   "outputs": [],
   "source": [
    "# 🔥 Exercício 3: Funcionários com diferentes cálculos salariais\n",
    "# 🎯 Implemente uma classe `Funcionario` com um método `calcular_salario()`.\n",
    "# 🎯 As subclasses `Gerente` e `Operario` devem sobrescrevê-lo com lógicas específicas."
   ]
  },
  {
   "cell_type": "code",
   "execution_count": null,
   "id": "07eafe38",
   "metadata": {},
   "outputs": [],
   "source": [
    "# 🔥 Exercício 4: Polimorfismo em figuras geométricas\n",
    "# 🎯 Crie uma classe `FormaGeometrica` e as subclasses `Circulo` e `Quadrado`.\n",
    "# 🎯 Cada uma deve sobrescrever um método `calcular_area()`."
   ]
  },
  {
   "cell_type": "code",
   "execution_count": null,
   "id": "7671e0f5",
   "metadata": {},
   "outputs": [],
   "source": [
    "# 🔥 Exercício 5: Instrumentos musicais tocando de formas diferentes\n",
    "# 🎯 Implemente uma classe `InstrumentoMusical` com um método `tocar()`.\n",
    "# 🎯 Crie as subclasses `Violao` e `Piano`, cada uma com uma implementação própria do método."
   ]
  },
  {
   "cell_type": "code",
   "execution_count": null,
   "id": "9530b9e0",
   "metadata": {},
   "outputs": [],
   "source": [
    "# 🔥 Exercício 6: Polimorfismo em pagamento\n",
    "# 🎯 Crie uma superclasse `Pagamento` e as subclasses `CartaoCredito` e `Pix`.\n",
    "# 🎯 Cada uma deve ter um método `processar_pagamento()` modificado."
   ]
  },
  {
   "cell_type": "code",
   "execution_count": null,
   "id": "0b38babb",
   "metadata": {},
   "outputs": [],
   "source": [
    "# 🔥 Exercício 7: Personagens de um jogo atacando de maneiras únicas\n",
    "# 🎯 Crie uma classe `Personagem` com um método `atacar()`.\n",
    "# 🎯 Subclasses `Guerreiro` e `Mago` devem modificar esse método."
   ]
  },
  {
   "cell_type": "code",
   "execution_count": null,
   "id": "82c19d32",
   "metadata": {},
   "outputs": [],
   "source": [
    "# 🔥 Exercício 8: Envio de mensagens (SMS e Email)\n",
    "# 🎯 Crie uma classe `Mensagem` e especialize suas subclasses `SMS` e `Email`.\n",
    "# 🎯 Cada uma deve ter um comportamento próprio ao enviar mensagens."
   ]
  },
  {
   "cell_type": "code",
   "execution_count": null,
   "id": "0c6fcde2",
   "metadata": {},
   "outputs": [],
   "source": [
    "# 🔥 Exercício 9: Transportes e velocidades máximas diferentes\n",
    "# 🎯 Faça uma classe `Transporte` e subclasses `Bicicleta` e `Trem`.\n",
    "# 🎯 Cada uma deve modificar um método `velocidade_maxima()`."
   ]
  },
  {
   "cell_type": "code",
   "execution_count": null,
   "id": "4bfa87c0",
   "metadata": {},
   "outputs": [],
   "source": [
    "# 🔥 Exercício 10: Usuários com diferentes acessos ao sistema\n",
    "# 🎯 Crie uma classe `Usuario` e subclasses `Admin` e `Cliente`.\n",
    "# 🎯 Cada uma deve sobrescrever `acesso_sistema()`."
   ]
  },
  {
   "cell_type": "code",
   "execution_count": null,
   "id": "60f18b90",
   "metadata": {},
   "outputs": [],
   "source": [
    "# 🔥 Exercício 11: Reprodução de mídia (Filme e Música)\n",
    "# 🎯 Crie uma classe `Midia` e especialize suas subclasses `Filme` e `Musica`.\n",
    "# 🎯 Cada uma deve ter um método `reproduzir()` específico."
   ]
  },
  {
   "cell_type": "code",
   "execution_count": null,
   "id": "0e488c50",
   "metadata": {},
   "outputs": [],
   "source": [
    "# 🔥 Exercício 12: Produtos aplicando descontos personalizados\n",
    "# 🎯 Implemente uma classe `Produto` e subclasses `Eletronico` e `Alimento`.\n",
    "# 🎯 Cada uma deve modificar `desconto()`."
   ]
  },
  {
   "cell_type": "code",
   "execution_count": null,
   "id": "7f2ab273",
   "metadata": {},
   "outputs": [],
   "source": [
    "# 🔥 Exercício 13: Jogadores com diferentes estratégias\n",
    "# 🎯 Crie uma classe `Jogador` e especialize subclasses `Atacante` e `Defensor`.\n",
    "# 🎯 Cada uma deve sobrescrever `estrategia()`."
   ]
  },
  {
   "cell_type": "code",
   "execution_count": null,
   "id": "fa195113",
   "metadata": {},
   "outputs": [],
   "source": [
    "# 🔥 Exercício 14: Contas bancárias e cálculo de juros\n",
    "# 🎯 Faça uma superclasse `ContaBancaria` e especialize `ContaCorrente` e `ContaPoupanca`.\n",
    "# 🎯 Cada uma deve modificar `calcular_juros()`."
   ]
  },
  {
   "cell_type": "code",
   "execution_count": null,
   "id": "1c8f413b",
   "metadata": {},
   "outputs": [],
   "source": [
    "# 🔥 Exercício 15: Tempo estimado para diferentes entregas\n",
    "# 🎯 Crie uma classe `Entrega` e especialize `EntregaExpressa` e `EntregaNormal`.\n",
    "# 🎯 Cada uma deve modificar `tempo_estimado()`."
   ]
  }
 ],
 "metadata": {
  "kernelspec": {
   "display_name": "Python 3",
   "language": "python",
   "name": "python3"
  },
  "language_info": {
   "codemirror_mode": {
    "name": "ipython",
    "version": 3
   },
   "file_extension": ".py",
   "mimetype": "text/x-python",
   "name": "python",
   "nbconvert_exporter": "python",
   "pygments_lexer": "ipython3",
   "version": "3.13.2"
  }
 },
 "nbformat": 4,
 "nbformat_minor": 5
}
