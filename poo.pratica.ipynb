{
 "cells": [
  {
   "cell_type": "code",
   "execution_count": 2,
   "id": "21e72735",
   "metadata": {},
   "outputs": [
    {
     "name": "stdout",
     "output_type": "stream",
     "text": [
      "Du\n"
     ]
    }
   ],
   "source": [
    "# 1️⃣ Criando uma classe \"Pessoa\" com __init__, encapsulamento e getters/setters.\n",
    "class Pessoa:\n",
    "    def __init__(self, nome, idade):\n",
    "        self.__nome = nome\n",
    "        self.__idade = idade\n",
    "\n",
    "    def get_nome(self):\n",
    "        return self.__nome\n",
    "\n",
    "    def set_nome(self, novo_nome):\n",
    "        if isinstance(novo_nome, str) and novo_nome.strip():\n",
    "            self.__nome = novo_nome\n",
    "        else:\n",
    "            print(\"❌ Nome inválido!\")\n",
    "\n",
    "p1 = Pessoa(\"Du\", 25)\n",
    "print(p1.get_nome())  # Qual será a saída?\n",
    "\n",
    "#► a saída será Du"
   ]
  },
  {
   "cell_type": "code",
   "execution_count": null,
   "id": "197d16e9",
   "metadata": {},
   "outputs": [
    {
     "name": "stdout",
     "output_type": "stream",
     "text": [
      "Bel, 8, Dengosa...🔥 e Este animal faz: Au au!\n",
      "Frederico, 1, Arteiro...🔥 e Miau!\n"
     ]
    }
   ],
   "source": [
    "class Animal:\n",
    "    def __init__(self, nome, idade):\n",
    "        self.nome = nome.title()\n",
    "        self.idade = idade\n",
    "        \n",
    "\n",
    "    def fazer_som(self):\n",
    "        return \"este animal faz:\"\n",
    "\n",
    "class Cachorro(Animal):\n",
    "    def __init__(self, nome, idade, hobbie):\n",
    "        super().__init__(nome, idade)\n",
    "        self.hobbie = hobbie.title()\n",
    "\n",
    "    def fazer_som(self):\n",
    "        return super().fazer_som() + f\" Au au!\"\n",
    "\n",
    "class Gato(Animal):\n",
    "    def __init__(self, nome, idade, hobbie):\n",
    "        super().__init__(nome, idade)\n",
    "        self.hobbie = hobbie.title()\n",
    "\n",
    "    def fazer_som(self):\n",
    "        return \"Miau!\"\n",
    "\n",
    "\n",
    "\n",
    "# Lista com instâncias (objetos)\n",
    "animais = [Cachorro(\"Bel\", 8, \"dengosa...\\U0001f525\"), Gato(\"Frederico\", 1, \"arteiro...\\U0001f525\")]\n",
    "\n",
    "for animal in animais:\n",
    "    print(f\"{animal.nome}, {animal.idade}, {animal.hobbie} e {animal.fazer_som()}\")\n",
    "# output: \n",
    "# Bel, 8, Dengosa...🔥 e Este animal faz: Au au!\n",
    "# Frederico, 1, Arteiro...🔥 e Miau!"
   ]
  },
  {
   "cell_type": "code",
   "execution_count": null,
   "id": "668ad0da",
   "metadata": {},
   "outputs": [
    {
     "name": "stdout",
     "output_type": "stream",
     "text": [
      "Du\n"
     ]
    }
   ],
   "source": [
    "# 2️⃣ O que acontece se chamarmos diretamente p1.__nome?\n",
    "#print(p1.__nome)  # Será possível acessar o atributo diretamente? Por quê?\n",
    "\n",
    "#► não é possível acessar este valor pois o conteudo de nome esta encapsulado (protegido) e so podria ser acessado desta forma se houvesse a antecedencia de get_nome gera erro\n",
    "\n",
    "print(p1._Pessoa__nome) \n",
    "# aqui esta forma sem o getter funcionou o acesso ao atributo nome. por quê?\n"
   ]
  },
  {
   "cell_type": "code",
   "execution_count": 10,
   "id": "ff51b478",
   "metadata": {},
   "outputs": [
    {
     "name": "stdout",
     "output_type": "stream",
     "text": [
      "Carro: Toyota, Cor: Vermelho\n",
      "Carro: Fiat, Cor: verde\n",
      "Carro: Mercedes, Cor: Azul\n"
     ]
    }
   ],
   "source": [
    "# 3️⃣ Corrija o erro na classe abaixo adicionando __init__.\n",
    "class Carro:\n",
    "    def __init__(self, marca, cor):\n",
    "        self.marca = marca\n",
    "        self.cor = cor\n",
    "    \n",
    "    def detalhes(self):\n",
    "        return f\"Carro: {self.marca}, Cor: {self.cor}\"\n",
    "\n",
    "c1 = Carro(\"Toyota\", \"Vermelho\")\n",
    "c2 = Carro(\"Fiat\", \"verde\")\n",
    "c3 = Carro(\"Mercedes\", \"Azul\")\n",
    "print(c1.detalhes()) \n",
    "print(c2.detalhes())\n",
    "print(c3.detalhes())\n",
    "\n",
    "# Como adicionar __init__ para tornar os atributos personalizados?\n",
    "# ► temos que ter o __init__ em sua forma completa, e por termos o auxilio de self, para que cada instancia receba seus valores exclusivos, temos que referenciar os parametros formais logo abaixo do __init__"
   ]
  },
  {
   "cell_type": "code",
   "execution_count": null,
   "id": "973b526e",
   "metadata": {},
   "outputs": [
    {
     "name": "stdout",
     "output_type": "stream",
     "text": [
      "Olá, mundo!\n"
     ]
    }
   ],
   "source": [
    "# 4️⃣ O que acontece se um método dentro da classe não utilizar self?\n",
    "class Teste:\n",
    "    def mensagem(self):\n",
    "        return \"Olá, mundo!\"\n",
    "\n",
    "t = Teste()\n",
    "print(t.mensagem())  # Qual será o erro?\n",
    "# ► aqui não temos nem o __init__ nem o sel com os parametros formais, e a ausencia em especial do sel faz com que o objeto não sabe o que ele está instanciando. E ainda falta o self no metodo mensagem, o qe fará com que o objeto não consiga ter acesso a mensagem e assim exibir seu conteudo. Então mesmo sem o __init__ ainda poderiamos criar a classe, embora seus atributos teriam de ser implementados manualmente, mas com o metodo da classe sem o self ai já é outra história, pois o self em criações de classe indica que este metodo é uma instancia de algum objeto criado a partir da classe Teste"
   ]
  },
  {
   "cell_type": "code",
   "execution_count": null,
   "id": "b1e47544",
   "metadata": {},
   "outputs": [
    {
     "name": "stdout",
     "output_type": "stream",
     "text": [
      "10000000\n",
      "Agora seu saldo está positivo.\n",
      "0\n"
     ]
    }
   ],
   "source": [
    "# 5️⃣ Como corrigir a classe abaixo para que os métodos acessem corretamente os atributos?\n",
    "class ContaBancaria:\n",
    "    def __init__(self, titular, saldo):\n",
    "        self.__titular = titular  # Qual é o erro aqui?\n",
    "        self.__saldo = saldo  \n",
    "#► o erro acima se dava pela ausencia da referencição ao atributo quado fosse instanciado.\n",
    "    def get_saldo(self):\n",
    "        return self.__saldo  # Por que isso não funciona?\n",
    "    def set_saldo(self, novo_saldo):\n",
    "        if novo_saldo < 0:\n",
    "            raise Exception(\"\\U0000274c Seu saldo está insuficiente!\")\n",
    "        else:\n",
    "            self.__saldo = novo_saldo\n",
    "            print(\"Agora seu saldo está positivo.\")\n",
    "             \n",
    "    # ► return __saldo não funciona por que o atributo nome esta encapsulado e para se ter acesso a ele precisariamos da antecedencia de self.__nome explicitando que somente assim ele será acessado, uma ez que ele esta referenciado para a instancia atraves do self.\n",
    "c1 = ContaBancaria(\"Du\", 10000000)\n",
    "print(c1.get_saldo())\n",
    "c1.set_saldo(0)\n",
    "print(c1.get_saldo())\n",
    "# # 10000000\n",
    "# Agora seu saldo está positivo.\n"
   ]
  },
  {
   "cell_type": "code",
   "execution_count": null,
   "id": "0559c63b",
   "metadata": {},
   "outputs": [],
   "source": [
    "# 6️⃣ Criando uma classe sem __init__, mas tornando os objetos funcionais com métodos específicos.\n",
    "class Produto:\n",
    "    pass  # Sem __init__\n",
    "\n",
    "p = Produto()\n",
    "p.nome = \"Celular\"\n",
    "p.preco = 1500\n",
    "\n",
    "print(p.nome, p.preco)  # Será possível acessar os atributos? Por quê?\n",
    "# ► sim ´epossível acessar, embora tenham sido atribuidos manualmente\n",
    "\n",
    "class Produto:\n",
    "    def __init__(self, nome, preço):\n",
    "        self.nome = nome\n",
    "        self.preço = preço\n",
    "\n",
    "    def detalhes(self):\n",
    "        return f\"\\U0001f525 O celular {self.nome} custa: {self.preço}\"\n",
    "\n",
    "novo_cel = Produto(\"J7\", 500)\n",
    "print(novo_cel.nome)\n",
    "print(novo_cel.preço)\n",
    "print(novo_cel.detalhes())\n",
    "\n",
    "# Celular 1500\n",
    "# J7\n",
    "# 500\n",
    "# 🔥 O celular J7 custa: 500"
   ]
  },
  {
   "cell_type": "code",
   "execution_count": null,
   "id": "7f50101a",
   "metadata": {},
   "outputs": [],
   "source": [
    "# 7️⃣ Como self pode ser comparado a um pronome pessoal na vida real? Implemente uma lógica.\n",
    "class Usuario:\n",
    "    def __init__(self, nome):\n",
    "        self.nome = nome\n",
    "\n",
    "    def identidade(self):\n",
    "        return f\"Eu sou {self.nome}. Este é meu espaço!\"\n",
    "\n",
    "u1 = Usuario(\"Du\")\n",
    "print(u1.identidade())  # Como isso se relaciona com \"eu\" ou \"nós\"?\n",
    "\n",
    "# a identidade que o self traz para si é o que faz a interligação de atributos/metodos com a instancia que o chama."
   ]
  },
  {
   "cell_type": "code",
   "execution_count": null,
   "id": "ef09ce51",
   "metadata": {},
   "outputs": [
    {
     "name": "stdout",
     "output_type": "stream",
     "text": [
      "Python Essencial\n"
     ]
    }
   ],
   "source": [
    "# 8️⃣ Aprofundando encapsulamento com decoradores @property.\n",
    "class Livro:\n",
    "    def __init__(self, titulo, autor):\n",
    "        self.__titulo = titulo\n",
    "        self.__autor = autor\n",
    "    \n",
    "    @property\n",
    "    def titulo(self):\n",
    "        return self.__titulo\n",
    "    \n",
    "    @titulo.setter\n",
    "    def titulo(self, novo_titulo):\n",
    "        if isinstance(novo_titulo, str) and novo_titulo.strip():\n",
    "            self.__titulo = novo_titulo\n",
    "\n",
    "livro1 = Livro(\"Python Essencial\", \"Autor X\")\n",
    "print(livro1.titulo)  # Como funciona @property?\n",
    "\n",
    "# ► não estudamos sobre @property, então nem sei o que  eo que faz...é de comer? rs\n",
    "\n",
    "# ► agora é serio, o @property funciona como uma chamada a um atributo que esta encapsulado de forma mais intuitiva, porém tanto o getter quanto o setter esta na def da classe Livro, mas quando instanciamos estes atributos, ele somente aparecem mais intuitivos."
   ]
  },
  {
   "cell_type": "code",
   "execution_count": null,
   "id": "9882a762",
   "metadata": {},
   "outputs": [],
   "source": [
    "# 9️⃣ Criando uma classe e instanciando múltiplos objetos de maneira otimizada.\n",
    "class Aluno:\n",
    "    def __init__(self, nome, curso):\n",
    "        self.nome = nome\n",
    "        self.curso = curso\n",
    "\n",
    "a1 = Aluno(\"Carlos\", \"Engenharia\")\n",
    "a2 = Aluno(\"Ana\", \"Medicina\")\n",
    "\n",
    "print(a1.nome, a1.curso)  # Como cada objeto mantém atributos próprios?\n",
    "print(a2.nome, a2.curso)\n",
    "\n",
    "# ► cada objeto mantem atributos próprios devido a eficacia do self  que referencia esta instancias a objetos que querem exclusividaade"
   ]
  },
  {
   "cell_type": "code",
   "execution_count": 34,
   "id": "6ae2790c",
   "metadata": {},
   "outputs": [
    {
     "name": "stdout",
     "output_type": "stream",
     "text": [
      "Au au! Miau! Piu -Piu!\n"
     ]
    }
   ],
   "source": [
    "# 🔟 Testando herança e polimorfismo na prática.\n",
    "class Animal:\n",
    "    def __init__(self, nome):\n",
    "        self.nome = nome\n",
    "    \n",
    "    def falar(self):\n",
    "        pass  # Método genérico\n",
    "\n",
    "class Cachorro(Animal):\n",
    "    def falar(self):\n",
    "        return \"Au au!\"\n",
    "\n",
    "class Gato(Animal):\n",
    "    def falar(self):\n",
    "        return \"Miau!\"\n",
    "class Passarinho(Animal):\n",
    "    def falar(self):\n",
    "        return \"Piu -Piu!\"\n",
    "\n",
    "\n",
    "c = Cachorro(\"Rex\")\n",
    "g = Gato(\"Felix\")\n",
    "p = Passarinho(\"pica-pau\")\n",
    "print(c.falar(), g.falar(), p.falar())  # Como o polimorfismo age aqui?\n",
    "\n",
    "#é o mesmo método para classes filhas que interagirão com este metodo de forma unica e exclusiva"
   ]
  },
  {
   "cell_type": "code",
   "execution_count": 37,
   "id": "bec3e36a",
   "metadata": {},
   "outputs": [
    {
     "name": "stdout",
     "output_type": "stream",
     "text": [
      "Carro: Toyota, Ano: 2022\n"
     ]
    }
   ],
   "source": [
    "# 1️⃣1️⃣ Implementação de método mágico __str__ para melhorar a saída do objeto.\n",
    "class Carro:\n",
    "    def __init__(self, marca, ano):\n",
    "        self.marca = marca\n",
    "        self.ano = ano\n",
    "\n",
    "    def __str__(self):\n",
    "        return f\"Carro: {self.marca}, Ano: {self.ano}\"\n",
    "\n",
    "c1 = Carro(\"Toyota\", 2022)\n",
    "print(c1)  # O que acontece ao imprimir o objeto diretamente?\n",
    "\n",
    "# ► então, eu ainda não vi (estudei sobre este método mágico __str__) mas pelo que vi, ele chama um método sem chmar o método...loucura.."
   ]
  },
  {
   "cell_type": "code",
   "execution_count": null,
   "id": "59e4ac59",
   "metadata": {},
   "outputs": [
    {
     "name": "stdout",
     "output_type": "stream",
     "text": [
      "Nome: Du\n"
     ]
    }
   ],
   "source": [
    "# 1️⃣2️⃣ O que acontece ao remover self de um método dentro da classe?\n",
    "class Teste:\n",
    "    def __init__(self, nome):\n",
    "        self.nome = nome\n",
    "\n",
    "    def mostrar_nome():\n",
    "        return f\"Nome: {self.nome}\"  # Qual será o erro?\n",
    "    # ► o erro se dá pela falta de referencia a instancia quando ela chamar o metodo mostra_nome(), simplesmente o python não sabe o que esta sendo instanciado.\n",
    "\n",
    "t = Teste(\"Du\")\n",
    "print(t.mostrar_nome())  # Qual erro ocorre e por quê?\n",
    "# ► realmente o erro se dá pela falta do self que em ausencia a instancia não sabe o que esta instanciando"
   ]
  },
  {
   "cell_type": "code",
   "execution_count": null,
   "id": "3b0e19c3",
   "metadata": {},
   "outputs": [
    {
     "name": "stdout",
     "output_type": "stream",
     "text": [
      "['O Senhor dos Anéis', 'Python para Iniciantes']\n"
     ]
    }
   ],
   "source": [
    "# 1️⃣3️⃣ Criando classes que utilizam listas e dicionários para armazenar dados.\n",
    "class Biblioteca:\n",
    "    def __init__(self):\n",
    "        self.livros = []\n",
    "\n",
    "    def adicionar_livro(self, titulo):\n",
    "        self.livros.append(titulo)\n",
    "\n",
    "biblio = Biblioteca()\n",
    "biblio.adicionar_livro(\"O Senhor dos Anéis\")\n",
    "biblio.adicionar_livro(\"Python para Iniciantes\")\n",
    "\n",
    "print(biblio.livros)  # Como armazenamos dados dentro de uma classe?\n",
    "\n",
    "# ► aqui a classe foi criada para receber os livros atraves da referenciação feita pelo self.livros e seus valor será em dados do tipo list.\n",
    "# então quando o método de adicionar livros é criado, o self no parametro do adicionar livros permite que o titulo venha como forma de list atraves do proprio metodo de listas .append() que vai adicionando elementos um por vez sendo por ordm de colocação. poderia ser um extend() para se adicionar mais livros de uma vez...\n",
    "\n"
   ]
  },
  {
   "cell_type": "code",
   "execution_count": null,
   "id": "346f21d9",
   "metadata": {},
   "outputs": [],
   "source": [
    "# 1️⃣4️⃣ Validação de atributos dentro do __init__.\n",
    "class Usuario:\n",
    "    def __init__(self, nome, idade):\n",
    "        if isinstance(nome, str) and nome.strip():\n",
    "            self.nome = nome\n",
    "        else:\n",
    "            raise ValueError(\"Nome inválido!\")\n",
    "\n",
    "        if isinstance(idade, int) and idade > 0:\n",
    "            self.idade = idade\n",
    "        else:\n",
    "            raise ValueError(\"Idade inválida!\")\n",
    "\n",
    "u = Usuario(\"Du\", 25)\n",
    "print(f\"Usuário: {u.nome}, Idade: {u.idade}\")  # Como __init__ evita valores inválidos?\n",
    "\n",
    "# ► o __init__ evita entradas invalidas  atraves do policial if que chama a tenete isinstance que poergunta : este dado que esta m nome é string e and o nome esta formatado antes e depois do inicio e encerramento da string? se sim, adicona o nome; e o mesmo vale para a situção e idade, onde o policial if pergunta para sua tente isinstance esta dado que esta em idade é do tipo inteiro e and este dado é maior que 0, se sim executa a atribuição de vlaores em seus respectivos atributos, e atraves do self, cada objeto instanciará valores exclusvos. "
   ]
  },
  {
   "cell_type": "code",
   "execution_count": null,
   "id": "641e8aa3",
   "metadata": {},
   "outputs": [],
   "source": [
    "# 1️⃣5️⃣ Criando objetos sem __init__, mas adicionando métodos para definir atributos depois.\n",
    "class Produto:\n",
    "    def definir_atributos(self, nome, preco):\n",
    "        self.nome = nome\n",
    "        self.preco = preco\n",
    "\n",
    "p1 = Produto()\n",
    "p1.definir_atributos(\"Notebook\", 4000)\n",
    "\n",
    "print(f\"Produto: {p1.nome}, Preço: {p1.preco}\")  # Como definir atributos sem __init__?\n",
    "\n",
    "# este metodo : definir-atributos também pode ser usado, porem não é convencional sgundao as boas praticas e não possui a eficacia e poderio de __init__, so consigo deduzir ate aqui."
   ]
  },
  {
   "cell_type": "markdown",
   "id": "b05af483",
   "metadata": {},
   "source": [
    "Herança - POO - 20/05/2025 - terça-feira\n"
   ]
  },
  {
   "cell_type": "code",
   "execution_count": null,
   "id": "cc27b5b3",
   "metadata": {},
   "outputs": [
    {
     "name": "stdout",
     "output_type": "stream",
     "text": [
      "Carro: Toyota, Corolla, 4 portas\n"
     ]
    }
   ],
   "source": [
    "# 1️⃣5️⃣ Criando uma superclasse e especializando subclasses\n",
    "# 📌 Questão: Como a subclasse pode modificar a classe pai sem perder suas funcionalidades?\n",
    "# 📌 Estudamos hoje que super().__init__() é essencial para garantir que os atributos da superclasse sejam corretamente herdados.\n",
    "\n",
    "class Veiculo:\n",
    "    def __init__(self, marca, modelo):\n",
    "        self.marca = marca\n",
    "        self.modelo = modelo\n",
    "\n",
    "class Carro(Veiculo):\n",
    "    def __init__(self, marca, modelo, portas): # ► aqui nós estamos referenciando atributos proprios da subclasse Carro, que houve um acréscimo de atributo novo (portas) que não tem classe pai, e so pode ser instanciado por objetos criados pela subclasse Carro. uma duvida: se na superclasse já tem em seus atributos defnidos a marca e o modelo, pk repetimos isso aqui na subclasse?\n",
    "        super().__init__(marca, modelo)  # 🔥 Chamando a superclasse corretamente ► nesta associação ao superclasse o super().__init__(marca, modelo) faz com que possamos instanciar os atributos originais da superclasse.\n",
    "        self.portas = portas\n",
    "\n",
    "c1 = Carro(\"Toyota\", \"Corolla\", 4)\n",
    "print(f\"Carro: {c1.marca}, {c1.modelo}, {c1.portas} portas\")  # Como funciona a especialização da subclasse?\n",
    "# ► aqui nós possiblitamos que nosso objeto criado a partire da subclasse Carro possa instanciar os atributos definidos na subclasse com a possibilidade agora de personalizar com o acréscimo de quantidades ed portas no veiculo.\n",
    "\n",
    "# analise do copilot:\n",
    "# 🔥 Conclusão:\n",
    "# ✔ Sim, sempre que uma subclasse precisar de novos atributos, o __init__() deve ser definido com os atributos da superclasse + os novos atributos da subclasse!\n",
    "# ✔ Sim, sempre devemos chamar super().__init__() na subclasse para garantir a inicialização correta dos atributos herdados da classe pai!\n",
    "# ✔ Sim, a subclasse pode instanciar seus atributos exclusivos com self.novo_atributo = novo_atributo normalmente!\n"
   ]
  },
  {
   "cell_type": "code",
   "execution_count": 2,
   "id": "06575590",
   "metadata": {},
   "outputs": [
    {
     "name": "stdout",
     "output_type": "stream",
     "text": [
      "1000 7200.0\n"
     ]
    }
   ],
   "source": [
    "# 1️⃣4️⃣ Herança e métodos personalizados em subclasses\n",
    "# 📌 Questão: Por que uma subclasse pode sobrescrever métodos da classe pai?\n",
    "# 📌 Estudamos hoje que métodos sobrescritos são úteis para especializar o comportamento herdado.\n",
    "\n",
    "class Funcionario: # aaqui inicializamos a criação d classe Funcionario.\n",
    "    def __init__(self, nome, salario): # aqui inicializamos seus atributos no parametro do metodo construtor __init__ com o primeiro argumento sendo o self e os demais atributos que esta superclasse terá.\n",
    "        self.nome = nome\n",
    "        self.salario = salario\n",
    "        # aqui referenciamos os atributos nome e salrio atraves de self que possibilita o objeto criado a aprtir da superclasse paar que possa ser instanciada em exclusividade para cada objeto que que acesar esses atributos.\n",
    "\n",
    "    def calcular_pagamento(self): # aqui criamos o primeiro metodo da superclasse funcionario que é uma fu8nção que retornará para o objeto o calculo do pagamento do funcionario.\n",
    "        return self.salario\n",
    "\n",
    "class Gerente(Funcionario): # aqui criamos a subclasse gerente que herda todos atributos da superclasse, e como ela não adiciona nosvos atributos, o init aqui é dispensavel, pois automaticamente ela herada esses atributos.\n",
    "    def calcular_pagamento(self):  # 🔥 Método sobrescrito\n",
    "        return self.salario * 1.2 # aqui o método foi sobrescrito para calcular o salario do gerente subclasse coma multiplicação de 1.2 (equivale a quanto isto?). Houve aqui uma personalização exclusiva para a subclasse gerente onde somente os objetos criados a partir desta classe podem instanciar o metodo sobrescrito e outros objetos que vierem a ser criados desta subclasse.\n",
    "\n",
    "f1 = Funcionario(\"João\", 1000)# aqui passamos os argumentos para a superclasse que já esta instanciada em nome e salario.\n",
    "g1 = Gerente(\"Ana\", 6000) # aqui também inicializamos este objeto criado a poartir da subclasse com os argumentos que já estão instanciados pois foram instanciados na superclasse e a subclasse herda estes atributos, podendo atribuir assim a seus objetos de forma automatica os valores.\n",
    "\n",
    "print(f1.calcular_pagamento(), g1.calcular_pagamento())  # Como a herança modifica métodos?\n",
    "# ► através de sobreescrever os metodos em sua propria estrutura interna da subclasse, e agora quando eu quiser me refrir atraves do objeto criado a partir da subclasse ao metodo clacular_pagameto() teria de usar super().calcular_pagamento() , mas se fosse um objeto criado da superclasse tal acrescimo de super().metodo() não seria necessário."
   ]
  },
  {
   "cell_type": "code",
   "execution_count": 9,
   "id": "2400aca9",
   "metadata": {},
   "outputs": [
    {
     "name": "stdout",
     "output_type": "stream",
     "text": [
      "O carro polo é do tipo sport\n",
      "o carro ferrari é do tipo Sport\n",
      "Este carro acelerando é um 🔥!!!\n"
     ]
    }
   ],
   "source": [
    "class Carro:\n",
    "    def __init__(self, marca, modelo):\n",
    "        self.marca = marca\n",
    "        self.modelo = modelo\n",
    "\n",
    "    def acelerar(self):\n",
    "        return f\"Este carro acelerando é \"\n",
    "    \n",
    "class Sport(Carro):\n",
    "    \n",
    "    def acelerar(self):\n",
    "        return super().acelerar() + \"um \\U0001f525!!!\"\n",
    "\n",
    "\n",
    "\n",
    "c = Carro(\"polo\", \"sport\")\n",
    "print(f\"O carro {c.marca} é do tipo {c.modelo}\")\n",
    "\n",
    "c1 = Sport(\"ferrari\", \"Sport\")\n",
    "print(f\"o carro {c1.marca} é do tipo {c1.modelo}\")\n",
    "\n",
    "print(c1.acelerar())\n",
    "\n",
    "\n",
    "\n",
    "\n"
   ]
  },
  {
   "cell_type": "code",
   "execution_count": null,
   "id": "0d618966",
   "metadata": {},
   "outputs": [
    {
     "name": "stdout",
     "output_type": "stream",
     "text": [
      "Professor: Carlos, 45, Disciplina: Matemática\n",
      "O Du tem a 37 anos e é um promissor programador de qualidade\n",
      "Trabalhar é muito bom, mas estudar é gostoso!!! E a combinação dos dois é tipo ' 🔥 ', que nem o metodo super()...\n"
     ]
    }
   ],
   "source": [
    "# 1️⃣3️⃣ Criando uma hierarquia de classes com atributos em comum\n",
    "# 📌 Questão: Qual a vantagem de reutilizar atributos na classe pai em vez de criar atributos repetidos em cada subclasse?\n",
    "# 📌 Estudamos hoje que a herança evita duplicação de código e melhora a organização.\n",
    "\n",
    "class Pessoa:\n",
    "    def __init__(self, nome, idade):\n",
    "        self.nome = nome\n",
    "        self.idade = idade\n",
    "\n",
    "    def esforço(self):\n",
    "        return f\"Trabalhar é muito bom, mas estudar é gostoso!!!\"\n",
    "class Professor(Pessoa):\n",
    "    def __init__(self, nome, idade, materia): # criamos a subclasse com atributos proprios, o que me obriga, se eu quiser ter acesso automatico dos atributos da superclasse, com a repetição dos parametros da superclassse \"mas \" adicionando um novo atributo, por isto esta nova referenciação a superclasse em seus atributos.\n",
    "        super().__init__(nome, idade) # este super()__init__(nome, materia) já me possibilita a utilização dos atributos com seus valores instanciados mais a minha personalização de subclasse.\n",
    "        self.materia = materia\n",
    "class Programador(Pessoa):\n",
    "\n",
    "    def __init__(self, nome, idade, profissão):\n",
    "        \n",
    "        super().__init__(nome, idade)\n",
    "        self.profissão = profissão\n",
    "\n",
    "    def esforço(self):\n",
    "\n",
    "        return super().esforço() + f\" E a combinação dos dois é tipo \\' \\U0001f525 \\', que nem o metodo super()...\"\n",
    "    \n",
    "dev = Programador(\"Du\", 37, \"programador\")\n",
    "prof = Professor(\"Carlos\", 45, \"Matemática\")\n",
    "\n",
    "print(f\"Professor: {prof.nome}, {prof.idade}, Disciplina: {prof.materia}\")  # Como a herança organiza dados comuns?\n",
    "\n",
    "print(f\"O {dev.nome} tem a {dev.idade} anos e é um promissor {dev.profissão} de qualidade\")\n",
    "print(dev.esforço())\n",
    "\n",
    "# Professor: Carlos, 45, Disciplina: Matemática\n",
    "# O Du tem a 37 anos e é um promissor programador de qualidade\n",
    "# Trabalhar é muito bom, mas estudar é gostoso!!! E a combinação dos dois é tipo ' 🔥 ', que nem o metodo super()..."
   ]
  },
  {
   "cell_type": "code",
   "execution_count": null,
   "id": "0c33597f",
   "metadata": {},
   "outputs": [
    {
     "name": "stdout",
     "output_type": "stream",
     "text": [
      "Rex\n"
     ]
    }
   ],
   "source": [
    "# 1️⃣2️⃣ O que acontece se não chamarmos super().__init__()?\n",
    "# 📌 Questão: O que acontece se a classe filha não inicializar a classe pai corretamente?\n",
    "# 📌 Estudamos hoje que se super().__init__() não for chamado, os atributos da superclasse não serão atribuídos.\n",
    "\n",
    "class Animal: # COMO SE CHAMA ESTA OPERAÇÃO? ► \"criação da classe Animal\"\n",
    "    def __init__(self, nome):# COMO SE CHAMA ESTA OPERAÇÃO? ► método construtor (__init__)► def __init__(self, nome)► responsavel por inicializar atributos quando um objeto é criado.\n",
    "        self.nome = nome # COMO SECHAMA ESTA OPERAÇÃO?\n",
    "\n",
    "class Cachorro(Animal):# ► a class Cachorro (Animal): a classe cachorro \"herda \" de Animal , permitindo reutilização de atributos e métodos.\n",
    "    def __init__(self, nome, raca): # COMO SE CHAMA ESTA OPERAÇÃO?\n",
    "        super().__init__(nome) # aqui não tinha esta linha de codigo, o que gera as perguntas subsequentes, mas acho fiz o correto ao iicializar a classe pai na classe filha, já que ela usa atributos da classe pai, temos que usar super()...e acrescenta tributo proprios, o que por si só já é motivo sufivciente para se inicializar a classe pai em si (como se chama esta operação?)\n",
    "        self.raca = raca  # ⚠ A classe pai não está sendo inicializada!\n",
    "        #COMO SE CHAMA O NOME DESTA OPERAÇÃO?\n",
    "c = Cachorro(\"Rex\", \"Labrador\") # COMO SE CHAMA ESTA OPERAÇÃO?\n",
    "print(c.nome)  # O que acontece aqui?\n",
    "# por não ter acesso aos tributos da superclasse, a instancição fica vagando, pois não sabe onde se está seu atributo ☺6 COMO SE CHAMA ESTA OPERAÇÃO?"
   ]
  },
  {
   "cell_type": "code",
   "execution_count": 6,
   "id": "6c4088ac",
   "metadata": {},
   "outputs": [
    {
     "name": "stdout",
     "output_type": "stream",
     "text": [
      "O latido da Belinha é 'Au Au !!!...mais de véio..rsrs...tipo arrastado...kkk...🔥 ' e ela tem uma manias meio malucas: 'Rabugenta que só ela...e gosta de ficar colocando a patinha com suas longas unhas na nossa cara...deita em cima da gente..sobe em cima...mas quando tem fogos, dá uma dó...ela fica com muito medo.'. Ela tem '8 aninhos' e seu nome personalizado em para mim é 'Vovó' e ela é super dengosa.\n",
      "A Mel para mim se chama 'Mamãe' e ela tem apenas '4 aninhos' e por ser a mais nova e não ter sido castrada é mais temperamental. Ela gosta de '...ela sabe que é querida, por isso faz dengo para receber carinho...so quando quer...essa sem-vergoinha...mas por ter sofrido acidente de atropelamento quando eu passeava com ela, ela tem valor diferente para mim...lembro quando fazia o curativo dela...ah, mamãezinha...sua sem-vergoinha...'...e seu latido é meio... 'Au Au !!! mais rouco...mais rabugento...hahaha..mais dengoso também...🔥 '\n"
     ]
    }
   ],
   "source": [
    "# SuperClasse- definição de classe.\n",
    "class Cachorras: # ► nome: Declaração de classe  | Explicação: Criando a classe Cachorras, que servirá como base para outras subclasses. \n",
    "\n",
    "    #Método Construtor.\n",
    "    def __init__(self, nome, idade): # ► Nome : Construtror (__init__). | Explicação: Método especial chamado automaticamente ao criar um objeto da classe Cachorras, inicializando os atributos nome e idade. | \n",
    "\n",
    "        # Atribuição de atributos\n",
    "        self.nome = nome\n",
    "        self.idade = idade\n",
    "        # Nome: Inicialização de atributo. | Explicação: O valor passado para nome e idadeé armazenado no atributo self.nome, tornando-se parte do objeto.\n",
    "\n",
    "    def latido(self):# Nome: Método de instância. | Explicação: Define um comportamento da classe Cachorras. O método retorna uma string representando o latido. \n",
    "        return f\"Au Au !!!\"# ► Nome: Retorno de valor. | Explicação: Quando latido() for chamado, ele rtornará Au Au !!! como resposta.\n",
    "    \n",
    "\n",
    "    def mijar(self): # definição de método. Nome: Método de instância. | Explicação: DEfine outro comportamento para a classe Cachorras\n",
    "        return f\"O horario é sempre este:\" # Retorno do método. Nome: Retorno de valor. | Explicação: Quando mijar() for chamado, ele retornará \"O horário é sempore este:\"\n",
    "    \n",
    "class Belinha(Cachorras): # Definição de subclasse. | Nome: Herança de classe. | Explicação: A classe Belinha herda atributos e métodos da superclasse Cachorras.\n",
    "    def __init__(self, nome, idade, mania): # Construtor da subclasse. | Nome: Construtor (__init__). | Explicação: Inicializamos atributos herdados(nome e idade) + um novo atributo exclusivo(mania)\n",
    "        super().__init__(nome, idade) # Chamada do construtor da superclasse. | Nome: Chamada de super(). | Explicação: Utiliza o método __init__() da superclasse para inicializar os atributos herdados (nome e idade.)\n",
    "        self.mania = mania # Inicializição de atributo exclusivo. | Explicação: Atributo mania pertence apenas à subclasse Belinha, diferenciando-a da superclasse.\n",
    "        \n",
    "    def latido(self): # Sobrescrita de método. | Explicação: Modifica o comportamento do método latido() herdado, mantendo a lógica original, mas adicionando, detalhes específicos da subclasse.\n",
    "\n",
    "        return super().latido() + \"...mais de véio..rsrs...tipo arrastado...kkk...\\U0001f525 \" # Nome: Chamada de super().latido() + modificação da saída. | Explicação: Reutiliza a lógica de superclasse e adiciona um texto personalizado à resposta do método.\n",
    "    \n",
    "\n",
    "class Mel(Cachorras): # Definição de subclasse. | Nome: Herança de classe. | Explicação: A classe Mel também herda atributos e métodos de Cachorras.\n",
    "    def __init__(self, nome, idade, mania): # Construtor De subclasse Nome: Construtor (__init__). Explicação: Inicializando atributos herdados (nome, idade) + um novo atributo exclusivo(mania)\n",
    "        super().__init__(nome, idade) # Chamada do construtor da superclasse: chamada do super(). | Explicação: Utiliza o método __init__() da superclasse para inicializar os atributos herdados (nome, idade).\n",
    "        self.mania = mania # Inicialização de atributo exclusivo. | Explicação: O atributo mania pertence apenas à subclasse Mel, tornando-a distinta. \n",
    "    def latido(self):\n",
    "        return super().latido() + f\" mais rouco...mais rabugento...hahaha..mais dengoso também...\\U0001f525 \"\n",
    "\n",
    "#Criação de objetos e chamada de métodos\n",
    "# Nome: Instanciação de objeto. | Explicação: Cria um objeto Bel e Melissa baseado na classe Belinha e Mel\n",
    "Bel = Belinha(\"Vovó\", \"8 aninhos\", \"Rabugenta que só ela...e gosta de ficar colocando a patinha com suas longas unhas na nossa cara...deita em cima da gente..sobe em cima...mas quando tem fogos, dá uma dó...ela fica com muito medo.\")\n",
    "Melissa = Mel(\"Mamãe\", \"4 aninhos\", \"...ela sabe que é querida, por isso faz dengo para receber carinho...so quando quer...essa sem-vergoinha...mas por ter sofrido acidente de atropelamento quando eu passeava com ela, ela tem valor diferente para mim...lembro quando fazia o curativo dela...ah, mamãezinha...sua sem-vergoinha...\")\n",
    "\n",
    "print(f\"O latido da Belinha é '{Bel.latido()}' e ela tem uma manias meio malucas: '{Bel.mania}'. Ela tem '{Bel.idade}' e seu nome personalizado em para mim é '{Bel.nome}' e ela é super dengosa.\\n e '{Bel.mijar()}...logo depois de comer...'\")\n",
    "\n",
    "print(f\"A Mel para mim se chama '{Melissa.nome}' e ela tem apenas '{Melissa.idade}' e por ser a mais nova e não ter sido castrada é mais temperamental. Ela gosta de '{Melissa.mania}'...e seu latido é meio... '{Melissa.latido()}' e '{Melissa.mijar()}'...logo depois de comer... \")\n",
    "\n",
    "# O latido da Belinha é 'Au Au !!!...mais de véio..rsrs...tipo arrastado...kkk...🔥 ' e ela tem uma manias meio malucas: 'Rabugenta que só ela...e gosta de ficar colocando a patinha com suas longas unhas na nossa cara...deita em cima da gente..sobe em cima...mas quando tem fogos, dá uma dó...ela fica com muito medo.'. Ela tem '8 aninhos' e seu nome personalizado em para mim é 'Vovó' e ela é super dengosa.\n",
    "# A Mel para mim se chama 'Mamãe' e ela tem apenas '4 aninhos' e por ser a mais nova e não ter sido castrada é mais temperamental. Ela gosta de '...ela sabe que é querida, por isso faz dengo para receber carinho...so quando quer...essa sem-vergoinha...mas por ter sofrido acidente de atropelamento quando eu passeava com ela, ela tem valor diferente para mim...lembro quando fazia o curativo dela...ah, mamãezinha...sua sem-vergoinha...'...e seu latido é meio... 'Au Au !!! mais rouco...mais rabugento...hahaha..mais dengoso também...🔥 '"
   ]
  },
  {
   "cell_type": "code",
   "execution_count": 18,
   "id": "99ce1698",
   "metadata": {},
   "outputs": [
    {
     "name": "stdout",
     "output_type": "stream",
     "text": [
      "5000\n"
     ]
    }
   ],
   "source": [
    "# 1️⃣1️⃣ Herança e encapsulamento (proteção de atributos)\n",
    "# 📌 Questão: Como a herança pode respeitar atributos privados de uma superclasse?\n",
    "# ► ela pode respeitar os atributos privados fazendo acessos corretos atraves de getter e setters.\n",
    "# 📌 Estudamos hoje que atributos privados não podem ser acessados diretamente na subclasse sem um método de acesso.\n",
    "\n",
    "class ContaBancaria:\n",
    "    def __init__(self, titular, saldo):\n",
    "        self.titular = titular\n",
    "        self.__saldo = saldo  # 🔒 Encapsulamento\n",
    "\n",
    "    def get_saldo(self):\n",
    "        return self.__saldo\n",
    "\n",
    "class ContaPremium(ContaBancaria):\n",
    "    def __init__(self, titular, saldo, limite_credito):\n",
    "        super().__init__(titular, saldo)\n",
    "        self.limite_credito = limite_credito\n",
    "\n",
    "cp = ContaPremium(\"Ana\", 5000, 10000)\n",
    "print(cp.get_saldo())  # Como herança pode respeitar atributos privados?"
   ]
  },
  {
   "cell_type": "code",
   "execution_count": null,
   "id": "6df38b42",
   "metadata": {},
   "outputs": [
    {
     "name": "stdout",
     "output_type": "stream",
     "text": [
      "Som de violão... Batida de bateria...\n",
      "Som ...... sim, este é um som muito da hora...🔥 \n"
     ]
    }
   ],
   "source": [
    "# 🔟 Herança e polimorfismo na prática\n",
    "# 📌 Questão: Como o polimorfismo permite que diferentes classes filhas implementem o mesmo método de formas distintas?\n",
    "# 📌 Estudamos hoje que polimorfismo permite que uma classe filha tenha um comportamento exclusivo, mantendo um método herdado da classe pai.\n",
    "\n",
    "class InstrumentoMusical:\n",
    "    def tocar(self):\n",
    "        return \"Som ...\"\n",
    "\n",
    "class Violao(InstrumentoMusical):\n",
    "    def tocar(self):\n",
    "        return \"Som de violão...\"\n",
    "\n",
    "class Bateria(InstrumentoMusical):\n",
    "    def tocar(self):\n",
    "        return \"Batida de bateria...\"\n",
    "    \n",
    "class Black_Music(InstrumentoMusical):\n",
    "    def tocar(self):\n",
    "        return super().tocar() + f\"... sim, este é um som muito de  da hora...\\U0001f525 \"\n",
    "\n",
    "v = Violao()\n",
    "b = Bateria()\n",
    "print(v.tocar(), b.tocar())  # Como o polimorfismo age aqui?\n",
    "# ele age da seguinet forma: para cada objeto cuja classe é distinta o metodo age de forma distinta...vou crescentar a subclasse black music,e vamos ver como fica...\n",
    "m = Black_Music()\n",
    "print(m.tocar())\n",
    "\n",
    "# Som de violão... Batida de bateria...\n",
    "# Som ...... sim, este é um som muito da hora...🔥"
   ]
  },
  {
   "cell_type": "code",
   "execution_count": 7,
   "id": "5303c954",
   "metadata": {},
   "outputs": [
    {
     "name": "stdout",
     "output_type": "stream",
     "text": [
      "Produto: iPhone, Preço: R$8000\n"
     ]
    }
   ],
   "source": [
    "# 9️⃣ Método mágico __str__ em uma superclasse\n",
    "# 📌 Questão: O que acontece ao imprimir um objeto diretamente quando __str__ está definido?\n",
    "# 📌 Estudamos hoje que __str__ melhora a exibição de objetos, tornando-os mais legíveis.\n",
    "\n",
    "class Produto:\n",
    "    def __init__(self, nome, preco):\n",
    "        self.nome = nome\n",
    "        self.preco = preco\n",
    "\n",
    "    def __str__(self):\n",
    "        return f\"Produto: {self.nome}, Preço: R${self.preco}\"\n",
    "\n",
    "class Celular(Produto):\n",
    "    def __init__(self, nome, preco, marca):\n",
    "        super().__init__(nome, preco)\n",
    "        self.marca = marca\n",
    "\n",
    "c1 = Celular(\"iPhone\", 8000, \"Apple\")\n",
    "print(c1)  # Como __str__ melhora a saída do objeto?\n",
    "# o __str__ nós vimos, mas so vi, pois no material que transcrevi não tinha este metodos magicos, mas acredito que tem de a ver com saida exclusiva(?)"
   ]
  },
  {
   "cell_type": "code",
   "execution_count": 9,
   "id": "9fd80f88",
   "metadata": {},
   "outputs": [
    {
     "name": "stdout",
     "output_type": "stream",
     "text": [
      "Moto: Honda, Cb 500, 500cc, quando acelera é só: 🔥 'Acelerando 🔥 a milhares por hora...Só no grau e tirando de giro...'\n",
      "Meu 'Azera' da marca 'Hyundai' do ano '2025' é muito bom em acerar assim: 🔥 'Acelerando 🔥 a milhares por hora...Só na arrancada e cavalinho de pau...🔥 '\n"
     ]
    }
   ],
   "source": [
    "# 1️⃣0️⃣ Criando uma superclasse com atributos básicos e especializando subclasses\n",
    "# 📌 Questão: Qual a vantagem de uma superclasse definir atributos comuns para todas as subclasses?\n",
    "# a vatagem da upercclasse definir os atributos se dá por todos aos objetos criados a partir da superclasse será instanciado automaticamente passando os valores de forma correta.\n",
    "# 📌 Estudamos que a herança evita duplicação de código ao centralizar atributos na superclasse.\n",
    "\n",
    "class Veiculo:\n",
    "    def __init__(self, marca, modelo):\n",
    "        self.marca = marca.title()\n",
    "        self.modelo = modelo.title()\n",
    "\n",
    "    def acelerar(self):\n",
    "        return f\"Acelerando \\U0001f525 a milhares por hora...\"\n",
    "\n",
    "class Moto(Veiculo):\n",
    "    def __init__(self, marca, modelo, cilindradas):\n",
    "        super().__init__(marca, modelo)\n",
    "        self.cilindradas = cilindradas\n",
    "\n",
    "    def acelerar(self):\n",
    "        return super().acelerar() + f\"Só no grau e tirando de giro...\"\n",
    "class Carro(Veiculo):\n",
    "    def __init__(self, marca, modelo, ano):\n",
    "        super().__init__(marca, modelo)\n",
    "        self.ano = ano\n",
    "    def acelerar(self):\n",
    "        return super().acelerar() + f\"Só na arrancada e cavalinho de pau...\\U0001f525 \"\n",
    "\n",
    "carro = Carro(\"Azera\", \"Hyundai\", 2025)\n",
    "moto1 = Moto(\"Honda\", \"CB 500\", 500)\n",
    "print(f\"Moto: {moto1.marca}, {moto1.modelo}, {moto1.cilindradas}cc, quando acelera é só: \\U0001f525 '{moto1.acelerar()}'\")\n",
    "print(f\"Meu '{carro.marca}' da marca '{carro.modelo}' do ano '{carro.ano}' é muito bom em acerar assim: \\U0001f525 '{carro.acelerar()}'\")\n",
    "# Como a subclasse herda atributos da superclasse? Herda automaticamente seus atributos e metodos, mas ao herdar tem a possibilidade de personalizar este metodo deixando exclusivo e unico.\n",
    "\n",
    "# Moto: Honda, Cb 500, 500cc, quando acelera é só: 🔥 'Acelerando 🔥 a milhares por hora...Só no grau e tirando de giro...'\n",
    "# Meu 'Azera' da marca 'Hyundai' do ano '2025' é muito bom em acerar assim: 🔥 'Acelerando 🔥 a milhares por hora...Só na arrancada e cavalinho de pau...🔥 '"
   ]
  },
  {
   "cell_type": "code",
   "execution_count": 14,
   "id": "3f487c6e",
   "metadata": {},
   "outputs": [
    {
     "name": "stdout",
     "output_type": "stream",
     "text": [
      "[<class '__main__.C'>, <class '__main__.A'>, <class '__main__.B'>, <class 'object'>]\n",
      "Método de A\n"
     ]
    }
   ],
   "source": [
    "# 9️⃣ Implementação de herança múltipla em Python\n",
    "# 📌 Questão: Como evitar conflitos ao usar herança múltipla em subclasses?\n",
    "# 📌 Estudamos hoje que MRO (Method Resolution Order) ajuda a definir a ordem de execução dos métodos herdados.\n",
    "\n",
    "class A:\n",
    "    def mostrar(self):\n",
    "        return \"Método de A\"\n",
    "\n",
    "class B:\n",
    "    def mostrar(self):\n",
    "        return \"Método de B\"\n",
    "\n",
    "class C(A, B):\n",
    "    pass  # 🔥 Herdando de duas classes!\n",
    "\n",
    "c = C()\n",
    "print(C.mro())\n",
    "print(c.mostrar())  # qual ser´o output em ordem? explique: O metodo mostrar() vai chamar o metode de A, pois foi passado primeiro na hierarquia de herança, mas antes o pytoh busca o metodo na propria subclasse C, não o encontrando ele segue e aordem de inserção de herança.\n",
    "# 📌 Conclusão:\n",
    "# 🚀 O MRO obedece a ordem definida na herança múltipla!\n",
    "# 🚀 Python sempre busca da esquerda para a direita antes de subir na hierarquia!\n",
    "# 🚀 Se precisar evitar conflitos, sempre cheque print(Classe.mro()) para entender a resolução correta!\n"
   ]
  },
  {
   "cell_type": "code",
   "execution_count": 15,
   "id": "a32a9e3c",
   "metadata": {},
   "outputs": [
    {
     "name": "stdout",
     "output_type": "stream",
     "text": [
      "Animal criado!\n",
      "Mamífero criado!\n",
      "Cachorro criado!\n"
     ]
    }
   ],
   "source": [
    "# 8️⃣ Uso de super() em herança múltipla\n",
    "# 📌 Questão: Como garantir que todas as classes envolvidas na herança sejam corretamente inicializadas?\n",
    "# 📌 Estudamos hoje que super() deve ser chamado corretamente em herança múltipla.\n",
    "\n",
    "class Animal:\n",
    "    def __init__(self):\n",
    "        print(\"Animal criado!\")\n",
    "\n",
    "class Mamifero(Animal):\n",
    "    def __init__(self):\n",
    "        super().__init__()\n",
    "        print(\"Mamífero criado!\")\n",
    "\n",
    "class Cachorro(Mamifero):\n",
    "    def __init__(self):\n",
    "        super().__init__()\n",
    "        print(\"Cachorro criado!\")\n",
    "\n",
    "dog = Cachorro()  # Como super() garante que todas as superclasses sejam inicializadas?"
   ]
  },
  {
   "cell_type": "code",
   "execution_count": 23,
   "id": "086334ec",
   "metadata": {},
   "outputs": [
    {
     "name": "stdout",
     "output_type": "stream",
     "text": [
      "10 8.0\n"
     ]
    }
   ],
   "source": [
    "# 7️⃣ Herança e sobrescrita de métodos para especialização\n",
    "# 📌 Questão: Como uma subclasse pode modificar métodos herdados para atender suas necessidades específicas?\n",
    "# ela modifica um método ao chamar o metodo dentro de sua estrutura e personaliza-lo, mas é válido que esta personalização seja antecedida pelo super().metodo() + para que a logica do método n superclasse\n",
    "# 📌 Estudamos que sobrescrever métodos permite alterar o comportamento herdado sem alterar a superclasse.\n",
    "\n",
    "class Conta:\n",
    "    def taxa_servico(self):\n",
    "        return 10  # 🔥 Método padrão da classe pai\n",
    "\n",
    "class ContaPremium(Conta):\n",
    "    def taxa_servico(self):\n",
    "        taxa_base = super().taxa_servico()\n",
    "        return taxa_base - 2.0 # 🔥 Método modificado na classe filha\n",
    "\n",
    "c1 = Conta()\n",
    "c2 = ContaPremium()\n",
    "\n",
    "print(c1.taxa_servico(), c2.taxa_servico())  # Por que a subclasse pode ter uma taxa diferente? por que ela personaliza o metodo ao seu bel querer para que este método heraddo, possa funcinar mas de forma personallida para todos os objetos que formem instanciados na subclasse ou superclasse."
   ]
  },
  {
   "cell_type": "code",
   "execution_count": 28,
   "id": "295f265b",
   "metadata": {},
   "outputs": [
    {
     "ename": "AttributeError",
     "evalue": "'int' object has no attribute 'title'",
     "output_type": "error",
     "traceback": [
      "\u001b[31m---------------------------------------------------------------------------\u001b[39m",
      "\u001b[31mAttributeError\u001b[39m                            Traceback (most recent call last)",
      "\u001b[36mCell\u001b[39m\u001b[36m \u001b[39m\u001b[32mIn[28]\u001b[39m\u001b[32m, line 58\u001b[39m\n\u001b[32m     53\u001b[39m         \u001b[38;5;28;01mreturn\u001b[39;00m \u001b[38;5;28mfloat\u001b[39m(\u001b[38;5;28mself\u001b[39m.valor) * taxa_base\n\u001b[32m     56\u001b[39m a1 = Aluno(\u001b[33m\"\u001b[39m\u001b[33mCarlos\u001b[39m\u001b[33m\"\u001b[39m, \u001b[32m20\u001b[39m, \u001b[33m\"\u001b[39m\u001b[33mA12345\u001b[39m\u001b[33m\"\u001b[39m)\n\u001b[32m---> \u001b[39m\u001b[32m58\u001b[39m p = \u001b[43mProfessor\u001b[49m\u001b[43m(\u001b[49m\u001b[33;43m\"\u001b[39;49m\u001b[33;43mTatiana\u001b[39;49m\u001b[33;43m\"\u001b[39;49m\u001b[43m,\u001b[49m\u001b[43m \u001b[49m\u001b[33;43m\"\u001b[39;49m\u001b[33;43m34\u001b[39;49m\u001b[33;43m\"\u001b[39;49m\u001b[43m,\u001b[49m\u001b[43m \u001b[49m\u001b[33;43m\"\u001b[39;49m\u001b[33;43mProfessora\u001b[39;49m\u001b[33;43m\"\u001b[39;49m\u001b[43m,\u001b[49m\u001b[43m \u001b[49m\u001b[32;43m3000\u001b[39;49m\u001b[43m)\u001b[49m\n\u001b[32m     60\u001b[39m d = Diretoria(\u001b[33m\"\u001b[39m\u001b[33mCaju\u001b[39m\u001b[33m\"\u001b[39m, \u001b[32m60\u001b[39m, \u001b[33m\"\u001b[39m\u001b[33mVice-Diretor\u001b[39m\u001b[33m\"\u001b[39m, \u001b[32m5000\u001b[39m)\n\u001b[32m     62\u001b[39m po = Portaria(\u001b[33m\"\u001b[39m\u001b[33mJosé\u001b[39m\u001b[33m\"\u001b[39m, \u001b[32m40\u001b[39m, \u001b[33m\"\u001b[39m\u001b[33mZelador\u001b[39m\u001b[33m\"\u001b[39m, \u001b[32m1800\u001b[39m)\n",
      "\u001b[36mCell\u001b[39m\u001b[36m \u001b[39m\u001b[32mIn[28]\u001b[39m\u001b[32m, line 31\u001b[39m, in \u001b[36mProfessor.__init__\u001b[39m\u001b[34m(self, nome, idade, valor, funcao)\u001b[39m\n\u001b[32m     29\u001b[39m \u001b[38;5;28;01mdef\u001b[39;00m\u001b[38;5;250m \u001b[39m\u001b[34m__init__\u001b[39m(\u001b[38;5;28mself\u001b[39m, nome, idade, valor, funcao):\n\u001b[32m     30\u001b[39m     \u001b[38;5;28msuper\u001b[39m().\u001b[34m__init__\u001b[39m(nome, idade, valor)\n\u001b[32m---> \u001b[39m\u001b[32m31\u001b[39m     \u001b[38;5;28mself\u001b[39m.funcao = \u001b[43mfuncao\u001b[49m\u001b[43m.\u001b[49m\u001b[43mtitle\u001b[49m()\n",
      "\u001b[31mAttributeError\u001b[39m: 'int' object has no attribute 'title'"
     ]
    }
   ],
   "source": [
    "# 6️⃣ Uso de __init__ na herança para personalizar atributos\n",
    "# 📌 Questão: Por que uma subclasse pode adicionar novos atributos ao `__init__` sem afetar a classe pai?\n",
    "# ►então, se vc quer ter passagem correta de valores em atributos herdados , o ideal é sim usar o super().__init__() com ou sem adição de atributos, para que no presente ou futuro, minha subclasse já está estruturada para lidar com passagem de valores aos atributos da superclasse para a subclasse.\n",
    "# 📌 Estudamos que super().__init__() garante a inicialização da classe pai antes da personalização.\n",
    "\n",
    "class Escola:\n",
    "    def __init__(self, nome, idade, valor):\n",
    "        self.nome = nome\n",
    "        self.idade = idade\n",
    "        self.valor = valor \n",
    "\n",
    "    def salario(self):\n",
    "        return f\"O seu sálario é de R$ {self.valor * 15.00}\"\n",
    "    \n",
    "    def beneficio(self):\n",
    "        return f\"Recebe auxilio Pé de Meia.\"\n",
    "\n",
    "class Aluno(Escola):\n",
    "    def __init__(self, nome, idade, matricula, valor=0):\n",
    "        super().__init__(nome, idade, valor)\n",
    "        self.matricula = matricula  # 🔥 Novo atributo exclusivo da subclasse\n",
    "\n",
    "    def beneficio(self):\n",
    "        ajuda = super().beneficio()\n",
    "        return f\"Só preciso estudar...que o din-din vai cair...{ajuda}\"\n",
    "\n",
    "\n",
    "class Professor(Escola):\n",
    "    def __init__(self, nome, idade, valor, funcao):\n",
    "        super().__init__(nome, idade, valor)\n",
    "        self.funcao = funcao.title()\n",
    "\n",
    "    def salario(self):\n",
    "        return super().salario()\n",
    "        \n",
    "    \n",
    "class Diretoria(Escola):\n",
    "    def __init__(self, nome, idade, valor, funcao):\n",
    "        super().__init__(nome, idade, valor)\n",
    "        self.funcao = funcao.title()\n",
    "\n",
    "    def salario(self):\n",
    "        taxa_base = super().salario()\n",
    "        return float(self.valor) * taxa_base\n",
    "     \n",
    "class Portaria(Escola):\n",
    "    def __init__(self, nome, idade, valor, funcao):\n",
    "        super().__init__(nome, idade, valor)\n",
    "        self.funcao = funcao\n",
    "\n",
    "    def salario(self):\n",
    "        taxa_base = super().salario()\n",
    "        return float(self.valor) * taxa_base\n",
    "\n",
    "\n",
    "a1 = Aluno(\"Carlos\", 20, \"A12345\")\n",
    "\n",
    "p = Professor(\"Tatiana\", \"34\", \"Professora\", 3000)\n",
    "\n",
    "d = Diretoria(\"Caju\", 60, \"Vice-Diretor\", 5000)\n",
    "\n",
    "po = Portaria(\"José\", 40, \"Zelador\", 1800)\n",
    "\n",
    "\n",
    "print(f\"O {po.nome} exerce a função de {po.funcao} e tem um salario de R$ {po.salario(3.000)} e tem {po.idade} anos.\")\n",
    "\n",
    "print(f\"O {p.nome} exerce a função de {p.funcao} e tem um salario de R$ {p.salario(3.000)} e tem {p.idade} anos.\")\n",
    "\n",
    "print(f\"O {d.nome} exerce a função de {d.funcao} e tem um salario de R$ {d.salario(3.000)} e tem {d.idade} anos.\")\n",
    "\n",
    "print(f\"Já nosso querido aluno {a1.nome} tem {a1.idade} e recebe o beneficio do {a1.beneficio()}\")\n",
    "\n",
    "# ---------------------------------------------------------------------------\n",
    "# AttributeError                            Traceback (most recent call last)\n",
    "# Cell In[27], line 58\n",
    "#      53         return float(self.valor) * taxa_base\n",
    "#      56 a1 = Aluno(\"Carlos\", 20, \"A12345\")\n",
    "# ---> 58 p = Professor(\"Tatiana\", \"34\", \"Professora\", 3000)\n",
    "#      60 d = Diretoria(\"Caju\", 60, \"Vice-Diretor\", 5000)\n",
    "#      62 po = Portaria(\"José\", 40, \"Zelador\", 1800)\n",
    "\n",
    "# Cell In[27], line 31, in Professor.__init__(self, nome, idade, valor, funcao)\n",
    "#      29 def __init__(self, nome, idade, valor, funcao):\n",
    "#      30     super().__init__(nome, idade, valor)\n",
    "# ---> 31     self.funcao = funcao.Title()\n",
    "\n",
    "# AttributeError: 'int' object has no attribute 'Title'\n"
   ]
  },
  {
   "cell_type": "code",
   "execution_count": null,
   "id": "b7deac5a",
   "metadata": {},
   "outputs": [],
   "source": [
    "# 5️⃣ Herança e polimorfismo com métodos compartilhados\n",
    "# 📌 Questão: Como o polimorfismo permite que diferentes subclasses implementem um método herdado de formas únicas?\n",
    "# 📌 Estudamos que polimorfismo permite que métodos tenham comportamentos distintos dependendo da subclasse.\n",
    "\n",
    "class Veiculo:\n",
    "    def som(self):\n",
    "        return \"Ruído genérico\"\n",
    "\n",
    "class Carro(Veiculo):\n",
    "    def som(self):\n",
    "        return \"Vruuum!\"\n",
    "\n",
    "class Moto(Veiculo):\n",
    "    def som(self):\n",
    "        return \"Brrrrm!\"\n",
    "\n",
    "carro = Carro()\n",
    "moto = Moto()\n",
    "print(carro.som(), moto.som())  # Como o polimorfismo altera o comportamento do método?"
   ]
  },
  {
   "cell_type": "code",
   "execution_count": null,
   "id": "05779402",
   "metadata": {},
   "outputs": [],
   "source": [
    "# 4️⃣ Implementação de um sistema de classes hierárquicas baseado em herança\n",
    "# 📌 Questão: Como organizar uma estrutura de classes de forma escalável e modular com herança?\n",
    "# 📌 Estudamos que classes base ajudam a criar especializações organizadas.\n",
    "\n",
    "class Produto:\n",
    "    def __init__(self, nome, preco):\n",
    "        self.nome = nome\n",
    "        self.preco = preco\n",
    "\n",
    "class Eletronico(Produto):\n",
    "    def __init__(self, nome, preco, voltagem):\n",
    "        super().__init__(nome, preco)\n",
    "        self.voltagem = voltagem\n",
    "\n",
    "e1 = Eletronico(\"Notebook\", 5000, \"220V\")\n",
    "print(f\"Produto: {e1.nome}, Preço: R${e1.preco}, Voltagem: {e1.voltagem}\")  # Como organizar produtos com herança?"
   ]
  }
 ],
 "metadata": {
  "kernelspec": {
   "display_name": "Python 3",
   "language": "python",
   "name": "python3"
  },
  "language_info": {
   "codemirror_mode": {
    "name": "ipython",
    "version": 3
   },
   "file_extension": ".py",
   "mimetype": "text/x-python",
   "name": "python",
   "nbconvert_exporter": "python",
   "pygments_lexer": "ipython3",
   "version": "3.13.2"
  }
 },
 "nbformat": 4,
 "nbformat_minor": 5
}
